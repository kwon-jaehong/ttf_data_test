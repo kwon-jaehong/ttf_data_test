{
 "cells": [
  {
   "cell_type": "code",
   "execution_count": 1,
   "metadata": {},
   "outputs": [],
   "source": [
    "from PIL import Image, ImageDraw, ImageFont\n",
    "import os\n",
    "import shutil\n",
    "import numpy as np\n",
    "from tqdm import tqdm\n",
    "import cv2\n",
    "import pandas as pd\n",
    "\n",
    "\n",
    "target_dir = \"./font_char_img\"\n",
    "ttf_file_list = os.listdir(target_dir)\n",
    "\n",
    "refine_dir = \"./refine_ttf_file\"\n",
    "if not os.path.isdir(refine_dir):\n",
    "    os.mkdir(refine_dir)"
   ]
  },
  {
   "cell_type": "code",
   "execution_count": 2,
   "metadata": {},
   "outputs": [],
   "source": [
    "f = open(\"./target_char.txt\",\"r\")\n",
    "t_char = f.readline()\n",
    "t_char_list = list(t_char.replace(\" \",\"\"))\n",
    "# print(list(t_char.replace(\" \",\"\")))"
   ]
  },
  {
   "cell_type": "code",
   "execution_count": 3,
   "metadata": {},
   "outputs": [],
   "source": [
    "\n",
    "\n",
    "## 1차 유효성 검사\n",
    "def char_check(font,t_char_list):\n",
    "    try:\n",
    "        for ch in t_char_list:\n",
    "            _ = font.getsize(ch)    \n",
    "    except:\n",
    "        return False\n",
    "    return True\n",
    "\n",
    "\n",
    "def img_pixel_serch(img):\n",
    "    x= np.array(img)\n",
    "    ret, thresh1 = cv2.threshold(x,127,255, cv2.THRESH_BINARY)\n",
    "    if np.count_nonzero(thresh1)==32*32:\n",
    "        return False\n",
    "    return True\n",
    "    \n",
    "    \n",
    "    \n",
    "def pixel_check(font,t_char_list):\n",
    "    new_char_str = \"\"\n",
    "    not_char_str = \"\"\n",
    "    for char in t_char_list:\n",
    "        img = Image.new(\"L\", (32,32), 255)\n",
    "        draw = ImageDraw.Draw(img)\n",
    "        draw.text((0, 0), char, font=font)\n",
    "        flg = img_pixel_serch(img)\n",
    "        if flg == True:\n",
    "            new_char_str+=char\n",
    "        else:\n",
    "            not_char_str+=char\n",
    "    return new_char_str,not_char_str\n",
    "\n",
    "\n",
    "\n",
    "df = pd.DataFrame(columns=['name',\"flg\",'char','n_char'])\n",
    "\n"
   ]
  },
  {
   "cell_type": "code",
   "execution_count": 4,
   "metadata": {},
   "outputs": [],
   "source": [
    "for i in range(0,len(ttf_file_list)):\n",
    "    ttf_file_list[i] = ttf_file_list[i][:-3]+\"ttf\"\n",
    "# print(ttf_file_list)"
   ]
  },
  {
   "cell_type": "code",
   "execution_count": 5,
   "metadata": {},
   "outputs": [
    {
     "name": "stderr",
     "output_type": "stream",
     "text": [
      "  0%|          | 0/2 [00:00<?, ?it/s]/home/mrjaehong/project/ttf_data_test/env/lib/python3.7/site-packages/ipykernel_launcher.py:5: DeprecationWarning: getsize is deprecated and will be removed in Pillow 10 (2023-07-01). Use getbbox or getlength instead.\n",
      "  \"\"\"\n",
      "100%|██████████| 2/2 [00:18<00:00,  9.40s/it]\n"
     ]
    }
   ],
   "source": [
    "target_dir = \"./ttf_file\"\n",
    "\n",
    "\n",
    "result_info = []\n",
    "\n",
    "for file_name in tqdm(ttf_file_list):\n",
    "    \n",
    "    font = ImageFont.truetype(target_dir+\"/\"+file_name)\n",
    "    ch_flg = char_check(font,t_char_list)\n",
    "    # ch_flg = False\n",
    "    font_char_str = \"\"\n",
    "    if ch_flg == True:\n",
    "        font_char_str,new_char_str = pixel_check(font,t_char_list)\n",
    "    result_info.append({file_name:[ch_flg,font_char_str,new_char_str]})\n",
    "    df = df.append({\"name\":file_name,\"flg\":ch_flg,\"char\":font_char_str,\"n_char\":new_char_str},ignore_index=True)\n",
    "    "
   ]
  },
  {
   "cell_type": "code",
   "execution_count": 6,
   "metadata": {},
   "outputs": [],
   "source": [
    "df.to_csv('./font_info.csv')"
   ]
  },
  {
   "cell_type": "code",
   "execution_count": 7,
   "metadata": {},
   "outputs": [
    {
     "data": {
      "text/html": [
       "<div>\n",
       "<style scoped>\n",
       "    .dataframe tbody tr th:only-of-type {\n",
       "        vertical-align: middle;\n",
       "    }\n",
       "\n",
       "    .dataframe tbody tr th {\n",
       "        vertical-align: top;\n",
       "    }\n",
       "\n",
       "    .dataframe thead th {\n",
       "        text-align: right;\n",
       "    }\n",
       "</style>\n",
       "<table border=\"1\" class=\"dataframe\">\n",
       "  <thead>\n",
       "    <tr style=\"text-align: right;\">\n",
       "      <th></th>\n",
       "      <th>name</th>\n",
       "      <th>flg</th>\n",
       "      <th>char</th>\n",
       "      <th>n_char</th>\n",
       "    </tr>\n",
       "  </thead>\n",
       "  <tbody>\n",
       "    <tr>\n",
       "      <th>0</th>\n",
       "      <td>arial 1.ttf</td>\n",
       "      <td>True</td>\n",
       "      <td>!\"#$%&amp;'()*+,-./0123456789:;&lt;=&gt;?@ABCDEFGHIJKLMN...</td>\n",
       "      <td></td>\n",
       "    </tr>\n",
       "    <tr>\n",
       "      <th>1</th>\n",
       "      <td>gulim.ttf</td>\n",
       "      <td>True</td>\n",
       "      <td>!#$%&amp;()*+,-.0123456789:;&lt;=&gt;?@ABCDEFGHIJKLMNOPQ...</td>\n",
       "      <td>\"'/^`l´☜☞ㅣ</td>\n",
       "    </tr>\n",
       "  </tbody>\n",
       "</table>\n",
       "</div>"
      ],
      "text/plain": [
       "          name   flg                                               char  \\\n",
       "0  arial 1.ttf  True  !\"#$%&'()*+,-./0123456789:;<=>?@ABCDEFGHIJKLMN...   \n",
       "1    gulim.ttf  True  !#$%&()*+,-.0123456789:;<=>?@ABCDEFGHIJKLMNOPQ...   \n",
       "\n",
       "       n_char  \n",
       "0              \n",
       "1  \"'/^`l´☜☞ㅣ  "
      ]
     },
     "execution_count": 7,
     "metadata": {},
     "output_type": "execute_result"
    }
   ],
   "source": [
    "df"
   ]
  },
  {
   "cell_type": "code",
   "execution_count": 8,
   "metadata": {},
   "outputs": [],
   "source": [
    "## 파일 옮기고, 텍스트 파일 생성\n",
    "true_df = df[df['flg']==True]\n",
    "true_df\n",
    "\n",
    "for i in range(0,len(true_df)):\n",
    "    shutil.copy(os.path.join(target_dir,true_df.iloc[i]['name']),os.path.join(refine_dir,true_df.iloc[i]['name']))\n",
    "    f = open(os.path.join(refine_dir,true_df.iloc[i]['name'][:-3]+\"txt\"),\"w\")\n",
    "    f.write(true_df.iloc[i]['char'])\n",
    "    f.close()"
   ]
  },
  {
   "cell_type": "code",
   "execution_count": null,
   "metadata": {},
   "outputs": [],
   "source": []
  },
  {
   "cell_type": "code",
   "execution_count": null,
   "metadata": {},
   "outputs": [],
   "source": []
  },
  {
   "cell_type": "code",
   "execution_count": null,
   "metadata": {},
   "outputs": [],
   "source": []
  }
 ],
 "metadata": {
  "kernelspec": {
   "display_name": "Python 3.7.5 ('env': venv)",
   "language": "python",
   "name": "python3"
  },
  "language_info": {
   "codemirror_mode": {
    "name": "ipython",
    "version": 3
   },
   "file_extension": ".py",
   "mimetype": "text/x-python",
   "name": "python",
   "nbconvert_exporter": "python",
   "pygments_lexer": "ipython3",
   "version": "3.7.5"
  },
  "orig_nbformat": 4,
  "vscode": {
   "interpreter": {
    "hash": "e4e51604c07cba62358353cbc0a6f3bb2804cb2b9895efbc30349f0863da9d16"
   }
  }
 },
 "nbformat": 4,
 "nbformat_minor": 2
}
