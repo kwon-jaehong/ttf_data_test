{
 "cells": [
  {
   "cell_type": "code",
   "execution_count": 7,
   "metadata": {},
   "outputs": [],
   "source": [
    "from PIL import Image, ImageDraw, ImageFont\n",
    "import os\n",
    "import shutil\n",
    "import numpy as np\n",
    "from tqdm import tqdm\n",
    "import cv2\n",
    "import pandas as pd\n",
    "\n",
    "\n",
    "# target_dir = \"./font_char_img\"\n",
    "\n",
    "target_dir = \"../font_char_img (hand)\"\n",
    "\n",
    "ttf_file_list = os.listdir(target_dir)\n",
    "\n",
    "refine_dir = \"./refine_ttf_file\"\n",
    "if not os.path.isdir(refine_dir):\n",
    "    os.mkdir(refine_dir)"
   ]
  },
  {
   "cell_type": "code",
   "execution_count": 8,
   "metadata": {},
   "outputs": [],
   "source": [
    "f = open(\"./target_char.txt\",\"r\")\n",
    "t_char = f.readline()\n",
    "t_char_list = list(t_char.replace(\" \",\"\"))\n",
    "# print(list(t_char.replace(\" \",\"\")))"
   ]
  },
  {
   "cell_type": "code",
   "execution_count": 9,
   "metadata": {},
   "outputs": [],
   "source": [
    "\n",
    "\n",
    "## 1차 유효성 검사\n",
    "def char_check(font,t_char_list):\n",
    "    try:\n",
    "        for ch in t_char_list:\n",
    "            _ = font.getsize(ch)    \n",
    "    except:\n",
    "        return False\n",
    "    return True\n",
    "\n",
    "\n",
    "def img_pixel_serch(img):\n",
    "    x= np.array(img)\n",
    "    ret, thresh1 = cv2.threshold(x,127,255, cv2.THRESH_BINARY)\n",
    "    if np.count_nonzero(thresh1)==32*32:\n",
    "        return False\n",
    "    return True\n",
    "    \n",
    "    \n",
    "    \n",
    "def pixel_check(font,t_char_list):\n",
    "    new_char_str = \"\"\n",
    "    not_char_str = \"\"\n",
    "    for char in t_char_list:\n",
    "        img = Image.new(\"L\", (32,32), 255)\n",
    "        draw = ImageDraw.Draw(img)\n",
    "        draw.text((0, 0), char, font=font)\n",
    "        flg = img_pixel_serch(img)\n",
    "        if flg == True:\n",
    "            new_char_str+=char\n",
    "        else:\n",
    "            not_char_str+=char\n",
    "    return new_char_str,not_char_str\n",
    "\n",
    "\n",
    "\n",
    "df = pd.DataFrame(columns=['name',\"flg\",'char','n_char'])\n",
    "\n"
   ]
  },
  {
   "cell_type": "code",
   "execution_count": 10,
   "metadata": {},
   "outputs": [
    {
     "name": "stdout",
     "output_type": "stream",
     "text": [
      "['나눔손글씨 바른히피.ttf', 'UhBee Hyeki Bold.ttf', 'a꿀벌여행.ttf', 'a깜짝이야.ttf', 'UhBee EUN KYUNG.ttf', 'UhBee dami.ttf', 'UhBee Hyeki.ttf', 'UhBee yoongdi.ttf', 'UhBee matsuko Bold.ttf', '헬스셋조릿대Std.ttf', 'UhBee Mardyu.ttf', 'Bazzi.ttf', '나눔손글씨 연지체.ttf', 'UhBee DDOYO.ttf', 'UhBee YanNeu Bold.ttf', 'Tlab신영복체.ttf', 'UhBee Joker.ttf', '╟р║╣░э╚яB.ttf', '나눔손글씨 흰꼬리수리.ttf', 'Jaemin.ttf', 'UhBee LovelyAN.ttf', '나눔손글씨 옥비체.ttf', '나눔손글씨 노력하는 동희.ttf', 'UhBee BEOJJI.ttf', '│▓╛ч┴╓ ┤┘╗ъ M.ttf', 'UhBee+Jaeyoun.ttf', '나눔손글씨 따뜻한 작별.ttf', 'UhBee charming Bold.ttf', 'UhBee EUN KYUNG Bold.ttf', 'UhBee Sunhong.ttf', 'a개미야.ttf', '나눔손글씨 나는 이겨낸다.ttf', 'UhBee U JEONG Bold.ttf', 'UhBee Kairu.ttf', 'a저녁노을L.ttf', 'UhBee Kairu BOLD.ttf', '╟я╜║╝┬║╣┴╢╕оStd.ttf', '나눔손글씨 성실체.ttf', '나눔손글씨 다채사랑.ttf', 'UhBee+Jaeyoun+Bold.ttf', 'UhBee YanNeu.ttf', '독립서체_한용운_GS.ttf', 'a하늘산책M.ttf', 'UhBee DoolDool Bold.ttf', 'UhBee Skyrain.ttf', 'UhBee DongKyung BOLD.ttf', 'SDMiSaeng.ttf', 'EBS주시경L.ttf', 'UhBee Joker Bold.ttf', 'a치즈푸딩.ttf', 'UhBee UZ.ttf', 'UhBee namsoyoung Bold.ttf', 'godoMaum.ttf', '온글잎 보현체.ttf', 'UhBee mysen Bold.ttf', 'JSArirang.ttf', 'a서당개.ttf', 'UhBee Tokki Bold.ttf', 'UhBee Ham Bold.ttf', 'UhBee baby Bold.ttf', '나눔손글씨 범솜체.ttf', 'UhBee KeongKeong Bold.ttf', 'Uhbee NaHyun Bold.ttf', '│▓╛ч┴╓ ┤┘╗ъ B.ttf', 'Cafe24Shiningstar.ttf', 'UhBee Jin-gun Bold.ttf', '나눔손글씨 달의궤도.ttf', 'WandohopeR.ttf', 'UhBee chae-eun Bold.ttf', '나눔손글씨 왼손잡이도 예뻐.ttf', '온글잎 만두몽키체.ttf', 'UhBee BEOJJI Bold.ttf', 'UhBee Yiseul.ttf', 'UhBee W yum Bold.ttf', 'UhBee yoongdi Bold.ttf', 'UhBee Jjipungding.ttf', '나눔손글씨 맛있는체.ttf', '나눔손글씨 강부장님체.ttf', 'UhBee HanByeol BOLD.ttf', 'UhBee Soyun.ttf', 'UhBee Gmin2.ttf', 'UhBee ddolyoung.ttf', 'UhBee yoonjaa Bold.ttf', '나눔손글씨 초딩희망.ttf', 'a지지배배.ttf', 'Uhbee NaHyun.ttf', '나눔손글씨 엉겅퀴체.ttf', 'UhBee DongKyung.ttf', 'UhBee Jjipungding Bold.ttf', 'UhBee jung BOLD.ttf', 'a세잎클로버.ttf', '온글잎 의연체.ttf', 'UhBee My Husband Bold.ttf', '나눔손글씨 상해찬미체.ttf', 'UhBee mingi calli Bold.ttf', 'UhBee ZIGLE Bold.ttf', '나눔손글씨 철필글씨.ttf', 'UhBee KeongKeong.ttf', '나눔손글씨 꽃내음.ttf', 'UhBee Jisyuk jisyuk.ttf', '나눔손글씨 행복한 도비.ttf', 'UhBee mun seul ye.ttf', 'UhBee U JEONG.ttf', 'UhBee swit.ttf', 'UhBee Rice.ttf', 'UhBee My Husband.ttf', '나눔손글씨 비상체.ttf', '온글잎 무궁체.ttf', '나눔손글씨 소미체.ttf', 'a중봉체.ttf', '나눔손글씨 세화체.ttf', '나눔손글씨 미래나무.ttf', '나눔손글씨 아인맘 손글씨.ttf', '행복고흥M.ttf', '나눔손글씨 칼국수.ttf', '나눔손글씨붓.ttf', 'a운필.ttf', 'a뻥이뿡이.ttf', 'UhBee TOMO.ttf', 'TDTDTadakTadak.ttf', 'UhBee song.ttf', 'EBS┴╓╜├░цL.ttf', '나눔손글씨 열일체.ttf', '나눔손글씨 와일드.ttf', 'UhBee mysen.ttf', '나눔손글씨 세아체.ttf', '나눔손글씨 시우 귀여워.ttf', 'UhBee UJong.ttf', 'UhBee Ham.ttf', '나눔손글씨 코코체.ttf', 'a별처럼.ttf', 'UhBeeZZIBA-Regular.ttf', '나눔손글씨 사랑해 아들.ttf', '솔인써니체.ttf', 'UhBee Hyundyu.ttf', 'UhBee UJong Bold.ttf', '나눔손글씨 나의 아내 손글씨.ttf', 'UhBee Tokki.ttf', '나눔손글씨 엄마사랑.ttf', '나눔손글씨 갈맷글.ttf', 'a갈매기의꿈.ttf', 'UhBee yehee Bold.ttf', 'UhBee freak researcher minani.ttf', 'UhBee HanByeol.ttf', 'UhBee ibuson.ttf', '온글잎 석영체.ttf', 'UhBee GEN WOO Bold.ttf', 'JSArirangPPURI.ttf', 'a달빛소년.ttf', 'UhBee MinAhBang.ttf', 'UhBee Rami.ttf', 'UhBee chae-eun.ttf', '나눔손글씨 우리딸 손글씨.ttf', 'a서커스유랑단.ttf', 'a입술L.ttf', 'UhBee Mardyu Bold.ttf', 'UhBee MiMi Bold.ttf', 'UhBee yul Bold.ttf', 'UhBee DDOYO BOLD.ttf', '나눔손글씨 다진체.ttf', 'a유치원L.ttf', 'UhBee wocked woman Bold.ttf', 'UhBee RingRing.ttf', 'UhBee dami Bold.ttf', '나눔손글씨 부장님 눈치체.ttf', 'MAKGEOLLI.ttf', 'UhBee mingi calli.ttf', 'UhBee W yum.ttf', 'UhBee Miwan.ttf', 'a순정만화.ttf', '나눔손글씨 북극성.ttf', '나눔손글씨 규리의 일기.ttf', 'UhBee Skyrain BOLD.ttf', 'gabia_napjakBlock.ttf', 'tvN ┴ё░┼┐ю└╠╛▀▒т Light.ttf', 'UhBee Miwan Bold.ttf', 'a커플반지.ttf', '나눔손글씨 하람체.ttf', '나눔손글씨 무진장체.ttf', 'UhBee Minidori.ttf', '나눔손글씨 느릿느릿체.ttf', 'a각설탕.ttf', 'UhBee Se_hyun.ttf', '독립서체_윤봉길_GS.ttf', 'a고래야놀자.ttf', 'a산울림L.ttf', 'UhBee BongSik.ttf', 'tvN ┴ё░┼┐ю└╠╛▀▒т Medium.ttf', 'ROEHOE-CHAN.ttf', 'FOUREYES.ttf', 'UhBee Ryuga.ttf', 'a별이빛나는밤M.ttf', '╟р║╣░э╚яL.ttf', '나눔손글씨 점꼴체.ttf', '나눔손글씨 곰신체.ttf', 'UhBee QUEEN J.ttf', 'a비밀일기.ttf', '나눔손글씨 유니 띵땅띵땅.ttf', '나눔손글씨 금은보화.ttf', 'UhBee jung.ttf', '나눔손글씨 한윤체.ttf', '나눔손글씨 다행체.ttf', '나눔손글씨 배은혜체.ttf', 'a형광펜.ttf', 'UhBee puding.ttf', 'UhBee yul.ttf', 'UhBee Kang-Ja.ttf', 'a엄마의편지L.ttf', 'a산울림M.ttf', 'dimibang.ttf', 'HanSCalliHypGaek.ttf', 'UhBee Strawberry.ttf', 'UhBee Jisyuk jisyuk BOLD.ttf', 'UhBee Ryuga Bold.ttf', '나눔손글씨 아빠글씨.ttf', 'UhBee Sunhong BOLD.ttf', '나눔손글씨 끄트머리체.ttf', '나눔손글씨 신혼부부.ttf', 'a소꼽친구.ttf', '나눔손글씨 장미체.ttf', 'UhBee eunD.ttf', 'UhBee Strawberry BOLD.ttf', '온글잎 해솜체.ttf', 'a샤샤.ttf', '나눔손글씨 따악단단.ttf', 'a청춘시대M.ttf', 'UhBee MinAhBang Bold.ttf', 'UhBee ddolyoung BOLD.ttf', 'KCC-eunyoung.ttf', '나눔손글씨 무궁화.ttf', '나눔손글씨 가람연꽃.ttf', 'UhBee wocked woman.ttf', 'UhBee eunD Bold.ttf', 'KCCAhnjunggeun.ttf', 'a유성L.ttf', '나눔손글씨 외할머니글씨.ttf', 'UhBee Han HUEY.ttf', '나눔손글씨 예당체.ttf', 'UhBee Wooyakeboong.ttf', '나눔손글씨 정은체.ttf', '나눔손글씨 야근하는 김주임.ttf', '나눔손글씨 고딕 아니고 고딩.ttf', 'a유성M.ttf', '나눔손글씨 대한민국 열사체.ttf', 'a엄마의편지M.ttf', 'UhBee DoolDool.ttf', 'UhBee puding Bold.ttf', 'a저녁노을M.ttf', 'UhBee Hanbee Bold.ttf', 'TaeFont TSTHlmL.ttf', 'a햇볕은쨍쨍.ttf', 'Cafe24Syongsyong.ttf', 'UhBee yehee.ttf', '나눔손글씨 여름글씨.ttf', 'UhBee Jiyoung.ttf', 'UhBee Yeonie.ttf', '온글잎 윤우체.ttf', '나눔손글씨 자부심지우.ttf', 'UhBee Gmin2 Bold.ttf', 'a입술M.ttf', '헬스셋복조리Std.ttf', 'UhBee Kang-Ja Bold.ttf', 'UhBee matsuko.ttf', '나눔손글씨 둥근인연.ttf', '나눔손글씨 예쁜 민경체.ttf', '나눔손글씨 바른정신.ttf', 'UhBee charming.ttf', '나눔손글씨 빵구니맘 손글씨.ttf', 'a하늘땅별땅.ttf', 'UhBee KOR.ttf', '나눔손글씨 효남 늘 화이팅.ttf', 'a하늘이좋아.ttf', 'UhBee mun seul ye Bold.ttf', '나눔손글씨 안쌍체.ttf', '나눔손글씨 대광유리.ttf', 'UhBee UZ Bold.ttf', 'UhBee song Bold.ttf', '나눔손글씨 김유이체.ttf', 'UhBee Hanbee.ttf', 'a소녀와뭉치.ttf', '나눔손글씨 세계적인 한글.ttf', '나눔손글씨 미니 손글씨.ttf', 'a애정표현.ttf', 'UhBee HYUNJUNG Bold.ttf', 'UhBee Banynany.ttf', 'a낙서.ttf', '나눔손글씨 아빠의 연애편지.ttf', 'a하늘산책L.ttf', 'UhBee Han HUEY Bold.ttf', '나눔손글씨 반짝반짝 별.ttf', '나눔손글씨 아줌마 자유.ttf', '온글잎 경영체.ttf', 'UhBee Motomi.ttf', 'a결혼.ttf', 'UhBee Jin-gun.ttf', 'a천방지축M.ttf', '나눔손글씨 수줍은 대학생.ttf', 'NanumBrush.ttf', '나눔손글씨 혜준체.ttf', 'UhBee baby.ttf', 'ylee Mortal Heart, Immortal Memory v.1.11 (TTF).ttf', 'a하늘바람.ttf', 'UhBee Howl.ttf', '나눔손글씨 버드나무.ttf', '╟я╜║╝┬┴╢╕┤┤ыStd.ttf', 'UhBee Banynany Bold.ttf', '나눔손글씨 열아홉의 반짝임.ttf', 'UhBee RingRing Bold.ttf', '나눔손글씨 몽돌.ttf', 'MapoMaponaru.ttf', '나눔손글씨 다시 시작해.ttf', 'UhBee namsoyoung.ttf', 'a천방지축L.ttf', '나눔손글씨 아기사랑체.ttf', 'BMYEONSUNG_ttf.ttf', 'a내손글씨M.ttf', '온글잎 민혜체.ttf', '╟р║╣░э╚яM.ttf', '나눔손글씨 또박또박.ttf', 'UhBee hye mong Bold.ttf', '나눔손글씨 중학생.ttf', '나눔손글씨 나무정원.ttf', '나눔손글씨 야채장수 백금례.ttf', 'Chilgok_kyb.ttf', '나눔손글씨 딸에게 엄마가.ttf', 'a태평천하.ttf', 'a해피데이.ttf', 'UhBee Simple girl.ttf', 'a아이스께끼.ttf', 'KCCChassam.ttf', '나눔손글씨 손편지체.ttf', 'SSRockRegular.ttf', 'UhBee JJIBBABBA.ttf', '나눔손글씨 기쁨밝음.ttf', '행복고흥L.ttf', '나눔손글씨 하나되어 손글씨.ttf', '나눔손글씨 희망누리.ttf', 'UhBee ZIGLE.ttf', 'UhBee Heeyom.ttf', 'UhBee hye mong.ttf', 'a달려깜둥.ttf', 'UhBee yoonjaa.ttf', 'UhBee GEN WOO.ttf', 'a수채화M.ttf', 'HanS_HyupGaep_Story2.ttf', '나눔손글씨 암스테르담.ttf', 'UhBee ann Bold.ttf', 'a내손글씨L.ttf', 'UhBee Rami BOLD.ttf', 'UhBee GGoongD.ttf', '나눔손글씨 소방관의 기도.ttf', 'UhBee MiMi.ttf', '나눔손글씨 마고체.ttf', '나눔손글씨 잘하고 있어.ttf', 'UhBee Seulvely.ttf', 'KCCImkwontaek.ttf', 'a엄마의편지B.ttf', '나눔손글씨 진주 박경아체.ttf', 'a인사동.ttf', 'UhBee Se_hyun Bold.ttf', '나눔손글씨 힘내라는 말보단.ttf', 'UhBee HYUNJUNG.ttf', '나눔손글씨 할아버지의나눔.ttf', 'UhBee JJIBBABBA Bold.ttf', '나눔손글씨 의미있는 한글.ttf', 'a아시아실록.ttf', 'UhBee Hyundyu Bold.ttf', 'designhouseLight.ttf', 'UhBee Simple girl BOLD.ttf', 'a카툰.ttf', 'UhBee ann.ttf', 'KCC-Kimhoon.ttf', 'NanumPen.ttf', '나눔손글씨 혁이체.ttf', '나눔손글씨 아름드리 꽃나무.ttf', '나눔손글씨 백의의 천사.ttf', 'a시나리오.ttf', 'UhBee Yiseul Bold.ttf']\n"
     ]
    }
   ],
   "source": [
    "for i in range(0,len(ttf_file_list)):\n",
    "    ttf_file_list[i] = ttf_file_list[i][:-3]+\"ttf\"\n",
    "print(ttf_file_list)"
   ]
  },
  {
   "cell_type": "code",
   "execution_count": 11,
   "metadata": {},
   "outputs": [
    {
     "name": "stderr",
     "output_type": "stream",
     "text": [
      "  0%|          | 0/378 [00:00<?, ?it/s]/home/mrjaehong/project/ttf_data_test/env/lib/python3.7/site-packages/ipykernel_launcher.py:5: DeprecationWarning: getsize is deprecated and will be removed in Pillow 10 (2023-07-01). Use getbbox or getlength instead.\n",
      "  \"\"\"\n",
      "100%|██████████| 378/378 [04:22<00:00,  1.44it/s]\n"
     ]
    }
   ],
   "source": [
    "target_dir = \"./ttf_file\"\n",
    "\n",
    "\n",
    "result_info = []\n",
    "\n",
    "for file_name in tqdm(ttf_file_list):\n",
    "    \n",
    "    font = ImageFont.truetype(target_dir+\"/\"+file_name)\n",
    "    ch_flg = char_check(font,t_char_list)\n",
    "    # ch_flg = False\n",
    "    font_char_str = \"\"\n",
    "    if ch_flg == True:\n",
    "        font_char_str,new_char_str = pixel_check(font,t_char_list)\n",
    "    result_info.append({file_name:[ch_flg,font_char_str,new_char_str]})\n",
    "    df = df.append({\"name\":file_name,\"flg\":ch_flg,\"char\":font_char_str,\"n_char\":new_char_str},ignore_index=True)\n",
    "    "
   ]
  },
  {
   "cell_type": "code",
   "execution_count": 12,
   "metadata": {},
   "outputs": [],
   "source": [
    "df.to_csv('./font_info.csv')"
   ]
  },
  {
   "cell_type": "code",
   "execution_count": 13,
   "metadata": {},
   "outputs": [
    {
     "data": {
      "text/html": [
       "<div>\n",
       "<style scoped>\n",
       "    .dataframe tbody tr th:only-of-type {\n",
       "        vertical-align: middle;\n",
       "    }\n",
       "\n",
       "    .dataframe tbody tr th {\n",
       "        vertical-align: top;\n",
       "    }\n",
       "\n",
       "    .dataframe thead th {\n",
       "        text-align: right;\n",
       "    }\n",
       "</style>\n",
       "<table border=\"1\" class=\"dataframe\">\n",
       "  <thead>\n",
       "    <tr style=\"text-align: right;\">\n",
       "      <th></th>\n",
       "      <th>name</th>\n",
       "      <th>flg</th>\n",
       "      <th>char</th>\n",
       "      <th>n_char</th>\n",
       "    </tr>\n",
       "  </thead>\n",
       "  <tbody>\n",
       "    <tr>\n",
       "      <th>0</th>\n",
       "      <td>나눔손글씨 바른히피.ttf</td>\n",
       "      <td>True</td>\n",
       "      <td>!\"#$%&amp;()*+,./123456789:;&lt;&gt;?@ABCDEFGHIJKLMNOPQR...</td>\n",
       "      <td>'-0=^_crsv{~‘’“”</td>\n",
       "    </tr>\n",
       "    <tr>\n",
       "      <th>1</th>\n",
       "      <td>UhBee Hyeki Bold.ttf</td>\n",
       "      <td>True</td>\n",
       "      <td>!\"#$%&amp;'()*+-/0123456789;&lt;=&gt;?@ABCDEFGHIJKLMNOPQ...</td>\n",
       "      <td>,.:¨´˙˚˜’</td>\n",
       "    </tr>\n",
       "    <tr>\n",
       "      <th>2</th>\n",
       "      <td>a꿀벌여행.ttf</td>\n",
       "      <td>True</td>\n",
       "      <td>!\"#$%&amp;'()*+,-./0123456789:;&lt;=&gt;?@ABCDEFGHIJKLMN...</td>\n",
       "      <td>´ˆ˜∙</td>\n",
       "    </tr>\n",
       "    <tr>\n",
       "      <th>3</th>\n",
       "      <td>a깜짝이야.ttf</td>\n",
       "      <td>True</td>\n",
       "      <td>!\"#$%&amp;'()*+,-./0123456789:;&lt;=&gt;?@ABCDEFGHIJKLMN...</td>\n",
       "      <td>¸ˆ˘˚˛˜∙</td>\n",
       "    </tr>\n",
       "    <tr>\n",
       "      <th>4</th>\n",
       "      <td>UhBee EUN KYUNG.ttf</td>\n",
       "      <td>True</td>\n",
       "      <td>!#$%&amp;'()*+-/0123456789:&lt;=&gt;?@ABCDEFGHIJKLMNOPQR...</td>\n",
       "      <td>\",.;_`¨´˙˚˜‘…텡</td>\n",
       "    </tr>\n",
       "    <tr>\n",
       "      <th>...</th>\n",
       "      <td>...</td>\n",
       "      <td>...</td>\n",
       "      <td>...</td>\n",
       "      <td>...</td>\n",
       "    </tr>\n",
       "    <tr>\n",
       "      <th>373</th>\n",
       "      <td>나눔손글씨 혁이체.ttf</td>\n",
       "      <td>True</td>\n",
       "      <td>#$&amp;*,025689&lt;&gt;@ABDEHKMPQRTUWXbdfgmnoqst¨©®´·¸ˆˇ...</td>\n",
       "      <td>!\"%'()+-./1347:;=?CFGIJLNOSVYZ[]^_`acehijklpru...</td>\n",
       "    </tr>\n",
       "    <tr>\n",
       "      <th>374</th>\n",
       "      <td>나눔손글씨 아름드리 꽃나무.ttf</td>\n",
       "      <td>True</td>\n",
       "      <td>#$&amp;*0@AIJRYZadhluz¨©®´·¸ˆˇ˘˙˚˛˜˝•…™←→↖↗∙▽◎★☆☎☜...</td>\n",
       "      <td>!\"%'()+,-./123456789:;&lt;=&gt;?BCDEFGHKLMNOPQSTUVWX...</td>\n",
       "    </tr>\n",
       "    <tr>\n",
       "      <th>375</th>\n",
       "      <td>나눔손글씨 백의의 천사.ttf</td>\n",
       "      <td>True</td>\n",
       "      <td>\"#$*48@KNQRhkmtv¨©®´·¸ˆˇ˘˙˚˛˜˝‘“•…™↖↗∙▽◎★☎☜☞♥♩...</td>\n",
       "      <td>!%&amp;'()+,-./01235679:;&lt;=&gt;?ABCDEFGHIJLMOPSTUVWXY...</td>\n",
       "    </tr>\n",
       "    <tr>\n",
       "      <th>376</th>\n",
       "      <td>a시나리오.ttf</td>\n",
       "      <td>True</td>\n",
       "      <td>!#$%&amp;()*+/0123456789&lt;&gt;?@ABDEFGHIJKLMNOPQRSTUVW...</td>\n",
       "      <td>\"',-.:;=C_`io|~¨´·¸ˆˇ˘˙˚˛˜˝‘’”∙ㄶㅡ괞귬깄꺆꺍꺠꾤꾱꿘냣됀됄됍...</td>\n",
       "    </tr>\n",
       "    <tr>\n",
       "      <th>377</th>\n",
       "      <td>UhBee Yiseul Bold.ttf</td>\n",
       "      <td>True</td>\n",
       "      <td>!#$%&amp;(*+-/0123456789&lt;=&gt;?@ABCDEFGHIJKLMNOPQRSTU...</td>\n",
       "      <td>\"'),.:;`ilr¨´·˙˚˜•…∙ㄴㅑㅣ걷기넨논느셉쏜쓰언읜익잌크키</td>\n",
       "    </tr>\n",
       "  </tbody>\n",
       "</table>\n",
       "<p>378 rows × 4 columns</p>\n",
       "</div>"
      ],
      "text/plain": [
       "                      name   flg  \\\n",
       "0           나눔손글씨 바른히피.ttf  True   \n",
       "1     UhBee Hyeki Bold.ttf  True   \n",
       "2                a꿀벌여행.ttf  True   \n",
       "3                a깜짝이야.ttf  True   \n",
       "4      UhBee EUN KYUNG.ttf  True   \n",
       "..                     ...   ...   \n",
       "373          나눔손글씨 혁이체.ttf  True   \n",
       "374     나눔손글씨 아름드리 꽃나무.ttf  True   \n",
       "375       나눔손글씨 백의의 천사.ttf  True   \n",
       "376              a시나리오.ttf  True   \n",
       "377  UhBee Yiseul Bold.ttf  True   \n",
       "\n",
       "                                                  char  \\\n",
       "0    !\"#$%&()*+,./123456789:;<>?@ABCDEFGHIJKLMNOPQR...   \n",
       "1    !\"#$%&'()*+-/0123456789;<=>?@ABCDEFGHIJKLMNOPQ...   \n",
       "2    !\"#$%&'()*+,-./0123456789:;<=>?@ABCDEFGHIJKLMN...   \n",
       "3    !\"#$%&'()*+,-./0123456789:;<=>?@ABCDEFGHIJKLMN...   \n",
       "4    !#$%&'()*+-/0123456789:<=>?@ABCDEFGHIJKLMNOPQR...   \n",
       "..                                                 ...   \n",
       "373  #$&*,025689<>@ABDEHKMPQRTUWXbdfgmnoqst¨©®´·¸ˆˇ...   \n",
       "374  #$&*0@AIJRYZadhluz¨©®´·¸ˆˇ˘˙˚˛˜˝•…™←→↖↗∙▽◎★☆☎☜...   \n",
       "375  \"#$*48@KNQRhkmtv¨©®´·¸ˆˇ˘˙˚˛˜˝‘“•…™↖↗∙▽◎★☎☜☞♥♩...   \n",
       "376  !#$%&()*+/0123456789<>?@ABDEFGHIJKLMNOPQRSTUVW...   \n",
       "377  !#$%&(*+-/0123456789<=>?@ABCDEFGHIJKLMNOPQRSTU...   \n",
       "\n",
       "                                                n_char  \n",
       "0                                     '-0=^_crsv{~‘’“”  \n",
       "1                                            ,.:¨´˙˚˜’  \n",
       "2                                                 ´ˆ˜∙  \n",
       "3                                              ¸ˆ˘˚˛˜∙  \n",
       "4                                       \",.;_`¨´˙˚˜‘…텡  \n",
       "..                                                 ...  \n",
       "373  !\"%'()+-./1347:;=?CFGIJLNOSVYZ[]^_`acehijklpru...  \n",
       "374  !\"%'()+,-./123456789:;<=>?BCDEFGHKLMNOPQSTUVWX...  \n",
       "375  !%&'()+,-./01235679:;<=>?ABCDEFGHIJLMOPSTUVWXY...  \n",
       "376  \"',-.:;=C_`io|~¨´·¸ˆˇ˘˙˚˛˜˝‘’”∙ㄶㅡ괞귬깄꺆꺍꺠꾤꾱꿘냣됀됄됍...  \n",
       "377              \"'),.:;`ilr¨´·˙˚˜•…∙ㄴㅑㅣ걷기넨논느셉쏜쓰언읜익잌크키  \n",
       "\n",
       "[378 rows x 4 columns]"
      ]
     },
     "execution_count": 13,
     "metadata": {},
     "output_type": "execute_result"
    }
   ],
   "source": [
    "df"
   ]
  },
  {
   "cell_type": "code",
   "execution_count": 14,
   "metadata": {},
   "outputs": [],
   "source": [
    "## 파일 옮기고, 텍스트 파일 생성\n",
    "true_df = df[df['flg']==True]\n",
    "true_df\n",
    "\n",
    "for i in range(0,len(true_df)):\n",
    "    shutil.copy(os.path.join(target_dir,true_df.iloc[i]['name']),os.path.join(refine_dir,true_df.iloc[i]['name']))\n",
    "    f = open(os.path.join(refine_dir,true_df.iloc[i]['name'][:-3]+\"txt\"),\"w\")\n",
    "    f.write(true_df.iloc[i]['char'])\n",
    "    f.close()"
   ]
  },
  {
   "cell_type": "code",
   "execution_count": null,
   "metadata": {},
   "outputs": [],
   "source": []
  },
  {
   "cell_type": "code",
   "execution_count": null,
   "metadata": {},
   "outputs": [],
   "source": []
  },
  {
   "cell_type": "code",
   "execution_count": null,
   "metadata": {},
   "outputs": [],
   "source": []
  }
 ],
 "metadata": {
  "kernelspec": {
   "display_name": "Python 3.7.5 ('env': venv)",
   "language": "python",
   "name": "python3"
  },
  "language_info": {
   "codemirror_mode": {
    "name": "ipython",
    "version": 3
   },
   "file_extension": ".py",
   "mimetype": "text/x-python",
   "name": "python",
   "nbconvert_exporter": "python",
   "pygments_lexer": "ipython3",
   "version": "3.7.5"
  },
  "orig_nbformat": 4,
  "vscode": {
   "interpreter": {
    "hash": "e4e51604c07cba62358353cbc0a6f3bb2804cb2b9895efbc30349f0863da9d16"
   }
  }
 },
 "nbformat": 4,
 "nbformat_minor": 2
}
