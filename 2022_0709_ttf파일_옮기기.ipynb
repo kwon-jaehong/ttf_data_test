{
 "cells": [
  {
   "cell_type": "code",
   "execution_count": 1,
   "metadata": {},
   "outputs": [],
   "source": [
    "from PIL import Image, ImageDraw, ImageFont\n",
    "import os\n",
    "import shutil\n",
    "import numpy as np\n",
    "from tqdm import tqdm\n",
    "import cv2\n",
    "import pandas as pd\n",
    "\n",
    "\n",
    "target_dir = \"./font_char_img\"\n",
    "ttf_file_list = os.listdir(target_dir)\n",
    "\n",
    "refine_dir = \"./refine_ttf_file\"\n",
    "if not os.path.isdir(refine_dir):\n",
    "    os.mkdir(refine_dir)"
   ]
  },
  {
   "cell_type": "code",
   "execution_count": 2,
   "metadata": {},
   "outputs": [],
   "source": [
    "f = open(\"./target_char.txt\",\"r\")\n",
    "t_char = f.readline()\n",
    "t_char_list = list(t_char.replace(\" \",\"\"))\n",
    "# print(list(t_char.replace(\" \",\"\")))"
   ]
  },
  {
   "cell_type": "code",
   "execution_count": 3,
   "metadata": {},
   "outputs": [],
   "source": [
    "\n",
    "\n",
    "## 1차 유효성 검사\n",
    "def char_check(font,t_char_list):\n",
    "    try:\n",
    "        for ch in t_char_list:\n",
    "            _ = font.getsize(ch)    \n",
    "    except:\n",
    "        return False\n",
    "    return True\n",
    "\n",
    "\n",
    "def img_pixel_serch(img):\n",
    "    x= np.array(img)\n",
    "    ret, thresh1 = cv2.threshold(x,127,255, cv2.THRESH_BINARY)\n",
    "    if np.count_nonzero(thresh1)==32*32:\n",
    "        return False\n",
    "    return True\n",
    "    \n",
    "    \n",
    "    \n",
    "def pixel_check(font,t_char_list):\n",
    "    new_char_str = \"\"\n",
    "    not_char_str = \"\"\n",
    "    for char in t_char_list:\n",
    "        img = Image.new(\"L\", (32,32), 255)\n",
    "        draw = ImageDraw.Draw(img)\n",
    "        draw.text((0, 0), char, font=font)\n",
    "        flg = img_pixel_serch(img)\n",
    "        if flg == True:\n",
    "            new_char_str+=char\n",
    "        else:\n",
    "            not_char_str+=char\n",
    "    return new_char_str,not_char_str\n",
    "\n",
    "\n",
    "\n",
    "df = pd.DataFrame(columns=['name',\"flg\",'char','n_char'])\n",
    "\n"
   ]
  },
  {
   "cell_type": "code",
   "execution_count": 4,
   "metadata": {},
   "outputs": [],
   "source": [
    "for i in range(0,len(ttf_file_list)):\n",
    "    ttf_file_list[i] = ttf_file_list[i][:-3]+\"ttf\"\n",
    "# print(ttf_file_list)"
   ]
  },
  {
   "cell_type": "code",
   "execution_count": 5,
   "metadata": {},
   "outputs": [
    {
     "name": "stderr",
     "output_type": "stream",
     "text": [
      "100%|██████████| 1393/1393 [10:17<00:00,  2.26it/s]\n"
     ]
    }
   ],
   "source": [
    "target_dir = \"./ttf_file\"\n",
    "\n",
    "\n",
    "result_info = []\n",
    "\n",
    "for file_name in tqdm(ttf_file_list):\n",
    "    \n",
    "    font = ImageFont.truetype(target_dir+\"/\"+file_name)\n",
    "    ch_flg = char_check(font,t_char_list)\n",
    "    # ch_flg = False\n",
    "    font_char_str = \"\"\n",
    "    if ch_flg == True:\n",
    "        font_char_str,new_char_str = pixel_check(font,t_char_list)\n",
    "    result_info.append({file_name:[ch_flg,font_char_str,new_char_str]})\n",
    "    df = df.append({\"name\":file_name,\"flg\":ch_flg,\"char\":font_char_str,\"n_char\":new_char_str},ignore_index=True)\n",
    "    "
   ]
  },
  {
   "cell_type": "code",
   "execution_count": 6,
   "metadata": {},
   "outputs": [],
   "source": [
    "df.to_csv('./font_info.csv')"
   ]
  },
  {
   "cell_type": "code",
   "execution_count": 8,
   "metadata": {},
   "outputs": [],
   "source": [
    "## 파일 옮기고, 텍스트 파일 생성\n",
    "true_df = df[df['flg']==True]\n",
    "true_df\n",
    "\n",
    "for i in range(0,len(true_df)):\n",
    "    shutil.copy(os.path.join(target_dir,true_df.iloc[i]['name']),os.path.join(refine_dir,true_df.iloc[i]['name']))\n",
    "    f = open(os.path.join(refine_dir,true_df.iloc[i]['name'][:-3]+\"txt\"),\"w\")\n",
    "    f.write(true_df.iloc[i]['char'])\n",
    "    f.close()"
   ]
  },
  {
   "cell_type": "code",
   "execution_count": null,
   "metadata": {},
   "outputs": [],
   "source": []
  },
  {
   "cell_type": "code",
   "execution_count": null,
   "metadata": {},
   "outputs": [],
   "source": []
  },
  {
   "cell_type": "code",
   "execution_count": null,
   "metadata": {},
   "outputs": [],
   "source": []
  }
 ],
 "metadata": {
  "interpreter": {
   "hash": "1d55d3335eb288fc7a3982e93953789f2123700bb0edcab51ee53f4da0264440"
  },
  "kernelspec": {
   "display_name": "Python 3.7.5 ('env': venv)",
   "language": "python",
   "name": "python3"
  },
  "language_info": {
   "codemirror_mode": {
    "name": "ipython",
    "version": 3
   },
   "file_extension": ".py",
   "mimetype": "text/x-python",
   "name": "python",
   "nbconvert_exporter": "python",
   "pygments_lexer": "ipython3",
   "version": "3.7.5"
  },
  "orig_nbformat": 4
 },
 "nbformat": 4,
 "nbformat_minor": 2
}
