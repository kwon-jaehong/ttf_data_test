{
 "cells": [
  {
   "cell_type": "code",
   "execution_count": null,
   "metadata": {},
   "outputs": [],
   "source": [
    "from PIL import Image, ImageDraw, ImageFont\n",
    "import os\n",
    "import numpy as np\n",
    "from tqdm import tqdm\n",
    "\n",
    "\n",
    "\n",
    "target_dir = \"./ttf_file\"\n",
    "ttf_file_list = os.listdir(target_dir)\n",
    "\n",
    "refine_dir = \"./refine_ttf_file\"\n",
    "if not os.path.isdir(refine_dir):\n",
    "    os.mkdir(refine_dir)"
   ]
  },
  {
   "cell_type": "code",
   "execution_count": null,
   "metadata": {},
   "outputs": [],
   "source": [
    "out_dir = \"./font_char_img\"\n",
    "if not os.path.isdir(out_dir):\n",
    "    os.mkdir(out_dir)"
   ]
  },
  {
   "cell_type": "code",
   "execution_count": 6,
   "metadata": {},
   "outputs": [
    {
     "name": "stderr",
     "output_type": "stream",
     "text": [
      " 50%|█████     | 1/2 [00:01<00:01,  1.88s/it]"
     ]
    }
   ],
   "source": [
    " \n",
    " def render(font, char, size=(32, 32), pad=20):\n",
    "    width, height = font.getsize(char)\n",
    "    max_size = max(width, height)\n",
    "\n",
    "    if width < height:\n",
    "        start_w = (height - width) // 2 + pad\n",
    "        start_h = pad\n",
    "    else:\n",
    "        start_w = pad\n",
    "        start_h = (width - height) // 2 + pad\n",
    "\n",
    "    img = Image.new(\"L\", (max_size+(pad*2), max_size+(pad*2)), 255)\n",
    "    draw = ImageDraw.Draw(img)\n",
    "    draw.text((start_w, start_h), char, font=font)\n",
    "    img = img.resize(size, 2)\n",
    "    return img\n",
    "\n",
    "\n",
    "\n",
    "numcols = 52\n",
    "numrows = 52\n",
    "f = open(\"./target_char.txt\",'r')\n",
    "char_list = list(f.readline())\n",
    "\n",
    "\n",
    "for file_name in tqdm(ttf_file_list):\n",
    "    try:\n",
    "        font = ImageFont.truetype(target_dir+\"/\"+file_name,size=150)\n",
    "        out_img = Image.new(\"RGBA\", (numcols * 32, numrows * 32 ), (0, 0, 0, 0))\n",
    "        \n",
    "    \n",
    "        char_point = 0\n",
    "        for row in range(0,numrows):\n",
    "            for col in range(0,numcols):\n",
    "                offset = 32 * col , 32 * row\n",
    "                out_img.paste(render(font,char_list[char_point]),offset)\n",
    "                char_point+=1\n",
    "                if char_point >= len(char_list):\n",
    "                    char_point=0\n",
    "                    \n",
    "                    \n",
    "        out_img.save(os.path.join(out_dir,file_name[:-4]+'.png'),'png')\n",
    "    except:\n",
    "        print(file_name)"
   ]
  }
 ],
 "metadata": {
  "kernelspec": {
   "display_name": "Python 3.7.5 ('env': venv)",
   "language": "python",
   "name": "python3"
  },
  "language_info": {
   "codemirror_mode": {
    "name": "ipython",
    "version": 3
   },
   "file_extension": ".py",
   "mimetype": "text/x-python",
   "name": "python",
   "nbconvert_exporter": "python",
   "pygments_lexer": "ipython3",
   "version": "3.7.5"
  },
  "orig_nbformat": 4,
  "vscode": {
   "interpreter": {
    "hash": "e4e51604c07cba62358353cbc0a6f3bb2804cb2b9895efbc30349f0863da9d16"
   }
  }
 },
 "nbformat": 4,
 "nbformat_minor": 2
}
