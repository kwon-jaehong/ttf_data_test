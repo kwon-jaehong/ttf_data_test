{
 "cells": [
  {
   "cell_type": "code",
   "execution_count": 1,
   "metadata": {},
   "outputs": [],
   "source": [
    "from PIL import Image, ImageDraw, ImageFont\n",
    "import os\n",
    "import shutil\n",
    "import numpy as np\n",
    "from tqdm import tqdm\n",
    "import cv2\n",
    "import pandas as pd\n",
    "\n",
    "\n",
    "target_dir = \"./ttf_file\"\n",
    "ttf_file_list = os.listdir(target_dir)\n",
    "\n",
    "refine_dir = \"./refine_ttf_file\"\n",
    "if not os.path.isdir(refine_dir):\n",
    "    os.mkdir(refine_dir)"
   ]
  },
  {
   "cell_type": "code",
   "execution_count": 2,
   "metadata": {},
   "outputs": [],
   "source": [
    "out_dir = \"./font_char_img\"\n",
    "if not os.path.isdir(out_dir):\n",
    "    os.mkdir(out_dir)"
   ]
  },
  {
   "cell_type": "code",
   "execution_count": 3,
   "metadata": {},
   "outputs": [],
   "source": [
    "def imshow(img):\n",
    "    import cv2\n",
    "    import IPython\n",
    "    _,ret = cv2.imencode('.jpg', img) \n",
    "    i = IPython.display.Image(data=ret)\n",
    "    IPython.display.display(i)"
   ]
  },
  {
   "cell_type": "code",
   "execution_count": 4,
   "metadata": {},
   "outputs": [
    {
     "name": "stderr",
     "output_type": "stream",
     "text": [
      " 34%|███▎      | 598/1784 [14:35<16:13,  1.22it/s]  "
     ]
    },
    {
     "name": "stdout",
     "output_type": "stream",
     "text": [
      "UhBee QUEEN J Bold.ttf\n"
     ]
    },
    {
     "name": "stderr",
     "output_type": "stream",
     "text": [
      "100%|██████████| 1784/1784 [43:33<00:00,  1.46s/it]  \n"
     ]
    }
   ],
   "source": [
    " \n",
    " def render(font, char, size=(32, 32), pad=20):\n",
    "    width, height = font.getsize(char)\n",
    "    max_size = max(width, height)\n",
    "\n",
    "    if width < height:\n",
    "        start_w = (height - width) // 2 + pad\n",
    "        start_h = pad\n",
    "    else:\n",
    "        start_w = pad\n",
    "        start_h = (width - height) // 2 + pad\n",
    "\n",
    "    img = Image.new(\"L\", (max_size+(pad*2), max_size+(pad*2)), 255)\n",
    "    draw = ImageDraw.Draw(img)\n",
    "    draw.text((start_w, start_h), char, font=font)\n",
    "    img = img.resize(size, 2)\n",
    "    return img\n",
    "\n",
    "\n",
    "\n",
    "numcols = 52\n",
    "numrows = 52\n",
    "f = open(\"./target_char.txt\",'r')\n",
    "char_list = list(f.readline())\n",
    "\n",
    "\n",
    "for file_name in tqdm(ttf_file_list):\n",
    "    try:\n",
    "        font = ImageFont.truetype(target_dir+\"/\"+file_name,size=150)\n",
    "        out_img = Image.new(\"RGBA\", (numcols * 32, numrows * 32 ), (0, 0, 0, 0))\n",
    "        \n",
    "    \n",
    "        char_point = 0\n",
    "        for row in range(0,numrows):\n",
    "            for col in range(0,numcols):\n",
    "                offset = 32 * col , 32 * row\n",
    "                out_img.paste(render(font,char_list[char_point]),offset)\n",
    "                char_point+=1\n",
    "                if char_point >= len(char_list):\n",
    "                    char_point=0\n",
    "                    \n",
    "                    \n",
    "        out_img.save(os.path.join(out_dir,file_name[:-4]+'.png'),'png')\n",
    "    except:\n",
    "        print(file_name)"
   ]
  }
 ],
 "metadata": {
  "interpreter": {
   "hash": "1d55d3335eb288fc7a3982e93953789f2123700bb0edcab51ee53f4da0264440"
  },
  "kernelspec": {
   "display_name": "Python 3.7.5 ('env': venv)",
   "language": "python",
   "name": "python3"
  },
  "language_info": {
   "codemirror_mode": {
    "name": "ipython",
    "version": 3
   },
   "file_extension": ".py",
   "mimetype": "text/x-python",
   "name": "python",
   "nbconvert_exporter": "python",
   "pygments_lexer": "ipython3",
   "version": "3.7.5"
  },
  "orig_nbformat": 4
 },
 "nbformat": 4,
 "nbformat_minor": 2
}
